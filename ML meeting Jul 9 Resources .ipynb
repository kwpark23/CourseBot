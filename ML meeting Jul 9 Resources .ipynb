{
 "cells": [
  {
   "cell_type": "markdown",
   "metadata": {},
   "source": [
    "# ML Meeting Presentation Resources"
   ]
  },
  {
   "cell_type": "markdown",
   "metadata": {},
   "source": [
    "## PART 1: What is Chatbot?"
   ]
  },
  {
   "cell_type": "code",
   "execution_count": null,
   "metadata": {},
   "outputs": [],
   "source": [
    "import random\n",
    "import time\n",
    "\n",
    "' ' 'This bot responds based on whether user asked a question or made a statement ' ' '\n",
    "\n",
    "bot_template = \"BOT : {0}\"\n",
    "user_template = \"USER : {0}\"\n",
    "\n",
    "responses = {\"question\": [\"you tell me!\", \"I don't know :(\"], \n",
    "             \"statement\": [\":)\", \"oh wow!\", \"I find that extremely interesting\", \"why do you think that?\"]}\n",
    "\n",
    "def respond(message):\n",
    "    if message.endswith(\"?\"):\n",
    "        return random.choice(responses[\"question\"])\n",
    "    return random.choice(responses[\"statement\"])\n",
    "\n",
    "\n",
    "def send_message(message):\n",
    "    print(user_template.format(message))\n",
    "    response = respond(message)\n",
    "    time.sleep(1.0)\n",
    "    print(bot_template.format(response))\n",
    "\n",
    "\n",
    "\n",
    "send_message(\"what's today's weather?\")\n",
    "time.sleep(1.0)\n",
    "send_message(\"Do you need something?\")\n",
    "time.sleep(1.0)\n",
    "send_message(\"I love building chatbots\")\n",
    "time.sleep(1.0)\n",
    "send_message(\"I like Python!\")"
   ]
  },
  {
   "cell_type": "markdown",
   "metadata": {},
   "source": [
    "## PART 2 Interpreting Human Languages\n",
    "nltk.chat package [link](https://www.nltk.org/api/nltk.chat.html)"
   ]
  },
  {
   "cell_type": "markdown",
   "metadata": {},
   "source": [
    "## PART 3 Machine Learning and Chatbot\n",
    "#### Resources\n",
    "1. spaCy [installation](https://spacy.io/usage)\n",
    "2. Scikit-learn [installation](https://scikit-learn.org/stable/install.html)\n",
    "3. rasa_nlu [installation](http://rasa.com/docs/rasa/user-guide/installation/)"
   ]
  },
  {
   "cell_type": "markdown",
   "metadata": {},
   "source": [
    "## Additional Resourses"
   ]
  },
  {
   "cell_type": "markdown",
   "metadata": {},
   "source": [
    "1. Build your first chatbot using Python NLTK [link](https://towardsdatascience.com/build-your-first-chatbot-using-python-nltk-5d07b027e727)\n",
    "2. How to Build an Intelligent Chatbot with Python and Dialogflow [link](https://cloudacademy.com/blog/how-to-build-an-intelligent-chatbot-with-python-and-dialogflow/)\n",
    "3. How I developed my own ‘learning’ chatbot in Python from scratch and deployed it on Facebook Messenger! [link](https://chatbotslife.com/how-i-developed-my-own-learning-chatbot-in-python-from-scratch-and-deployed-it-on-facebook-88bc828be0a8)\n",
    "4. Developing a Chatbot using Python Language: Tutorial [link](https://www.probytes.net/blog/how-to-make-a-chatbot-in-python/)\n",
    "5. ChatterBot is a machine learning, conversational dialog engine for creating chat bots [link](https://github.com/gunthercox/ChatterBot)\n",
    "6. Deep Learning for Chatbots, Part 1 – Introduction [link](http://www.wildml.com/2016/04/deep-learning-for-chatbots-part-1-introduction/)\n",
    "7. Building Facebook Messenger Bots with Python in less than 60 minutes [link](https://www.twilio.com/blog/2017/12/facebook-messenger-bot-python.html)\n",
    "8. How to Build Your First Chatbot [link](https://tutorials.botsfloor.com/how-to-build-your-first-chatbot-c84495d4622d)\n",
    "9. A New Approach to Conversational Software [link](https://medium.com/rasa-blog/a-new-approach-to-conversational-software-2e64a5d05f2a)\n",
    "10. nltk.chat package [link](https://www.nltk.org/api/nltk.chat.html)\n",
    "11. Datacamp course on building a chatbot [link](https://www.datacamp.com/courses/building-chatbots-in-python)\n",
    "12. How to make a Chatbot with Dialogflow - API.ai [link](https://www.youtube.com/watch?v=gWNUg_v25dw)\n",
    "13. DialogFlow (API.AI) Chatbot Tutorial - integration with Facebook messenger in 3 minutes [link](https://www.youtube.com/watch?v=-2hE3YHsuBQ)"
   ]
  }
 ],
 "metadata": {
  "kernelspec": {
   "display_name": "Python 3",
   "language": "python",
   "name": "python3"
  },
  "language_info": {
   "codemirror_mode": {
    "name": "ipython",
    "version": 3
   },
   "file_extension": ".py",
   "mimetype": "text/x-python",
   "name": "python",
   "nbconvert_exporter": "python",
   "pygments_lexer": "ipython3",
   "version": "3.7.3"
  }
 },
 "nbformat": 4,
 "nbformat_minor": 2
}
