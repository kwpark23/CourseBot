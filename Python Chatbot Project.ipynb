{
 "cells": [
  {
   "cell_type": "markdown",
   "metadata": {},
   "source": [
    " # Summer Chatbot Project 2019 "
   ]
  },
  {
   "cell_type": "markdown",
   "metadata": {},
   "source": [
    "### Chatbot requires using regex and ML to extract meaning from free-form text. "
   ]
  },
  {
   "cell_type": "markdown",
   "metadata": {},
   "source": [
    "## PART 1 - BUILDING A SIMPLE CHATBOT\n",
    "### Simplest chatbot takes a message as an argument and returns an appropriate response. "
   ]
  },
  {
   "cell_type": "markdown",
   "metadata": {},
   "source": [
    "## Version 1: Return user message\n",
    "\n",
    "This version of chatbot simply returns the message the user send to the bot."
   ]
  },
  {
   "cell_type": "code",
   "execution_count": 38,
   "metadata": {},
   "outputs": [
    {
     "name": "stdout",
     "output_type": "stream",
     "text": [
      "I can hear you! You said: hello!\n"
     ]
    }
   ],
   "source": [
    "# Define a function that responds to a user's message\n",
    "def respond(message):\n",
    "    bot_message = \"I can hear you! You said: \" + message\n",
    "    return bot_message\n",
    "\n",
    "print(respond(\"hello!\"))"
   ]
  },
  {
   "cell_type": "markdown",
   "metadata": {},
   "source": [
    "## Version 2: Log messages between bot and user\n",
    "\n",
    "This version of chatbot logs messages exchanged by the user and the bot. Also creates time delay between user response and bot response.  "
   ]
  },
  {
   "cell_type": "code",
   "execution_count": 2,
   "metadata": {
    "scrolled": true
   },
   "outputs": [
    {
     "name": "stdout",
     "output_type": "stream",
     "text": [
      "USER : Hello!\n",
      "BOT : I can hear you! You said: Hello!\n"
     ]
    }
   ],
   "source": [
    "import time\n",
    "\n",
    "# Create templates\n",
    "bot_template = \"BOT : {0}\"\n",
    "user_template = \"USER : {0}\"\n",
    "\n",
    "def respond(message):\n",
    "    bot_message = \"I can hear you! You said: \" + message\n",
    "    return bot_message\n",
    "\n",
    "# Define a function that sends a message to the bot\n",
    "def send_message(message):\n",
    "    # Print user_template including the user_message\n",
    "    print(user_template.format(message))\n",
    "    # Get the bot's response to the message\n",
    "    response = respond(message)\n",
    "    # Create one second delay before returning response\n",
    "    time.sleep(1.0)\n",
    "    print(bot_template.format(response))\n",
    "    \n",
    "# Send a message to the bot\n",
    "send_message(\"Hello!\")"
   ]
  },
  {
   "cell_type": "markdown",
   "metadata": {},
   "source": [
    "## Version 3: Answering simple questions\n",
    "\n",
    "This version of chatbot can answer simple questions from users using a dictionary. Questions from users have to match the keys of the dictionary exactly. "
   ]
  },
  {
   "cell_type": "code",
   "execution_count": 8,
   "metadata": {},
   "outputs": [
    {
     "name": "stdout",
     "output_type": "stream",
     "text": [
      "USER : what's your name?\n",
      "BOT : my name is Alex\n",
      "USER : what's today's weather?\n",
      "BOT : the weather is cloudy\n"
     ]
    }
   ],
   "source": [
    "import time\n",
    "\n",
    "# Create templates\n",
    "bot_template = \"BOT : {0}\"\n",
    "user_template = \"USER : {0}\"\n",
    "\n",
    "# Define variables\n",
    "name = \"Alex\"\n",
    "weather = \"cloudy\"\n",
    "\n",
    "# Define a dictionary with the predefined responses\n",
    "responses = {\n",
    "  \"what's your name?\": \"my name is {0}\".format(name),\n",
    "  \"what's today's weather?\": \"the weather is {0}\".format(weather),\n",
    "  \"default\": \"default message\"\n",
    "}\n",
    "\n",
    "# Return the matching response if there is one, default otherwise\n",
    "def respond(message):\n",
    "    # Check if the message is in the responses\n",
    "    if message in responses:\n",
    "        # Return the matching message\n",
    "        bot_message = responses[message]\n",
    "    else:\n",
    "        # Return the \"default\" message\n",
    "        bot_message = responses[\"default\"]\n",
    "    return bot_message\n",
    "\n",
    "# Define a function that sends a message to the bot\n",
    "def send_message(message):\n",
    "    # Print user_template including the user_message\n",
    "    print(user_template.format(message))\n",
    "    # Get the bot's response to the message\n",
    "    response = respond(message)\n",
    "    # Create one second delay before returning response\n",
    "    time.sleep(1.0)\n",
    "    print(bot_template.format(response))\n",
    "\n",
    "send_message(\"what's your name?\")\n",
    "time.sleep(1.0)\n",
    "send_message(\"what's today's weather?\")"
   ]
  },
  {
   "cell_type": "markdown",
   "metadata": {},
   "source": [
    "## What's the difference between commandline application and chatbot? Personality\n",
    "### Most chatbots are embedded in messaging apps. And personality improves user experience."
   ]
  },
  {
   "cell_type": "markdown",
   "metadata": {},
   "source": [
    "## Version 4: Adding randomness to the response\n",
    "\n",
    "This version add variation to bot's response. There are a multiple values stored for each key. "
   ]
  },
  {
   "cell_type": "code",
   "execution_count": 17,
   "metadata": {},
   "outputs": [
    {
     "name": "stdout",
     "output_type": "stream",
     "text": [
      "USER : what's your name?\n",
      "BOT : I go by Greg\n",
      "USER : what's today's weather?\n",
      "BOT : the weather is cloudy\n"
     ]
    }
   ],
   "source": [
    "import time\n",
    "# Import the random module\n",
    "import random\n",
    "\n",
    "# Create templates\n",
    "bot_template = \"BOT : {0}\"\n",
    "user_template = \"USER : {0}\"\n",
    "\n",
    "name = \"Greg\"\n",
    "weather = \"cloudy\"\n",
    "\n",
    "# Define a dictionary containing a list of responses for each message\n",
    "responses = {\n",
    "  \"what's your name?\": [\n",
    "      \"my name is {0}\".format(name),\n",
    "      \"they call me {0}\".format(name),\n",
    "      \"I go by {0}\".format(name)\n",
    "   ],\n",
    "  \"what's today's weather?\": [\n",
    "      \"the weather is {0}\".format(weather),\n",
    "      \"it's {0} today\".format(weather)\n",
    "    ],\n",
    "  \"default\": [\"default message\"]\n",
    "}\n",
    "\n",
    "# Use random.choice() to choose a matching response\n",
    "def respond(message):\n",
    "    # Check if the message is in the responses\n",
    "    if message in responses:\n",
    "        # Return a random matching response\n",
    "        bot_message = random.choice(responses[message])\n",
    "    else:\n",
    "        # Return a random \"default\" response\n",
    "        bot_message = responses[\"default\"]\n",
    "    return bot_message\n",
    "\n",
    "# Define a function that sends a message to the bot\n",
    "def send_message(message):\n",
    "    # Print user_template including the user_message\n",
    "    print(user_template.format(message))\n",
    "    # Get the bot's response to the message\n",
    "    response = respond(message)\n",
    "    # Create one second delay before returning response\n",
    "    time.sleep(1.0)\n",
    "    print(bot_template.format(response))\n",
    "\n",
    "send_message(\"what's your name?\")\n",
    "time.sleep(1.0)\n",
    "send_message(\"what's today's weather?\")"
   ]
  },
  {
   "cell_type": "markdown",
   "metadata": {},
   "source": [
    "## Version 5: Sometimes asking question\n",
    "\n",
    "This version sometimes responses to user's answers with questions by checking whether user asked a question. It uses a dictionary with two keys,'question' and 'statement'. "
   ]
  },
  {
   "cell_type": "code",
   "execution_count": 24,
   "metadata": {},
   "outputs": [
    {
     "name": "stdout",
     "output_type": "stream",
     "text": [
      "USER : what's today's weather?\n",
      "BOT : I don't know :(\n",
      "USER : Do you need something?\n",
      "BOT : I don't know :(\n",
      "USER : I love building chatbots\n",
      "BOT : oh wow!\n",
      "USER : I like Python!\n",
      "BOT : :)\n"
     ]
    }
   ],
   "source": [
    "import random\n",
    "import time\n",
    "\n",
    "# Create templates\n",
    "bot_template = \"BOT : {0}\"\n",
    "user_template = \"USER : {0}\"\n",
    "\n",
    "responses = {\"question\": [\"you tell me!\", \"I don't know :(\"], \n",
    "             \"statement\": [\":)\", \"oh wow!\", \n",
    "                           \"I find that extremely interesting\", \n",
    "                          \"why do you think that?\"]}\n",
    "\n",
    "def respond(message):\n",
    "    # Check for a question mark\n",
    "    if message.endswith(\"?\"):\n",
    "        # Return a random question\n",
    "        return random.choice(responses[\"question\"])\n",
    "    # Return a random statement\n",
    "    return random.choice(responses[\"statement\"])\n",
    "\n",
    "# Define a function that sends a message to the bot\n",
    "def send_message(message):\n",
    "    # Print user_template including the user_message\n",
    "    print(user_template.format(message))\n",
    "    # Get the bot's response to the message\n",
    "    response = respond(message)\n",
    "    # Create one second delay before returning response\n",
    "    time.sleep(1.0)\n",
    "    print(bot_template.format(response))\n",
    "\n",
    "# Send messages ending in a question mark\n",
    "send_message(\"what's today's weather?\")\n",
    "time.sleep(1.0)\n",
    "send_message(\"Do you need something?\")\n",
    "time.sleep(1.0)\n",
    "# Send messages which don't end with a question mark\n",
    "send_message(\"I love building chatbots\")\n",
    "time.sleep(1.0)\n",
    "send_message(\"I like Python!\")\n"
   ]
  },
  {
   "cell_type": "markdown",
   "metadata": {},
   "source": [
    "## Version 6: Using regular expression\n",
    "This bot includes phrases uttered by the user in its responses."
   ]
  },
  {
   "cell_type": "code",
   "execution_count": 39,
   "metadata": {},
   "outputs": [
    {
     "name": "stdout",
     "output_type": "stream",
     "text": [
      "USER : do you remember your last birthday?\n",
      "BOT : Did you think I would forget your last birthday??\n",
      "USER : I want Iphone for Christmas\n",
      "BOT : Why do you want Iphone for Christmas?\n",
      "USER : do you think Raptors are the best?\n",
      "BOT : if Raptors are the best?? Absolutely.\n",
      "USER : I know Karate\n",
      "BOT : Do you really think it's likely that Karate?\n"
     ]
    }
   ],
   "source": [
    "import re\n",
    "import random\n",
    "\n",
    "# Create templates\n",
    "bot_template = \"BOT : {0}\"\n",
    "user_template = \"USER : {0}\"\n",
    "\n",
    "rules = {'I want (.*)':['What would it mean if you got {0}?', \n",
    "                        'Why do you want {0}?', \n",
    "                        \"What's stopping you from getting {0}?\"], \n",
    "         'I know (.*)':[\"Do you really think it's likely that {0}?\", \n",
    "                    'Do you wish that {0}?', \n",
    "                    'What do you think about {0}?', \n",
    "                    'Really--if {0}'], \n",
    "         'do you think (.*)':['if {0}? Absolutely.', \n",
    "                              'No chance'], \n",
    "         'do you remember (.*)':['Did you think I would forget {0}?', \n",
    "                                 \"Why haven't you been able to forget {0}?\", \n",
    "                                 'What about {0}?', \n",
    "                                 'Yes .. and?']}\n",
    "\n",
    "# Define match_rule()\n",
    "def match_rule(rules, message):\n",
    "    print(user_template.format(message))\n",
    "    response, phrase = \"default\", None\n",
    "    \n",
    "    # Iterate over the rules dictionary\n",
    "    for pattern, responses in rules.items():\n",
    "        # Create a match object\n",
    "        match = re.search(pattern, message)\n",
    "        #print(\"match is \" , match)\n",
    "        if match is not None:\n",
    "            # Choose a random response\n",
    "            response = random.choice(responses)\n",
    "            if '{0}' in response:\n",
    "                phrase = match.group(1)\n",
    "    # Return the response and phrase\n",
    "    return response.format(phrase)\n",
    "\n",
    "# Test match_rule\n",
    "print(bot_template.format(match_rule(rules, \"do you remember your last birthday?\")))\n",
    "time.sleep(1.0)\n",
    "print(bot_template.format(match_rule(rules, \"I want Iphone for Christmas\")))\n",
    "time.sleep(1.0)\n",
    "print(bot_template.format(match_rule(rules, \"do you think Raptors are the best?\")))\n",
    "time.sleep(1.0)\n",
    "print(bot_template.format(match_rule(rules, \"I know Karate\")))"
   ]
  },
  {
   "cell_type": "markdown",
   "metadata": {},
   "source": [
    "It is also important to replace response with correct pronouns."
   ]
  },
  {
   "cell_type": "code",
   "execution_count": 31,
   "metadata": {},
   "outputs": [
    {
     "name": "stdout",
     "output_type": "stream",
     "text": [
      "your last birthday\n",
      "when I went to florida\n",
      "your own castle\n"
     ]
    }
   ],
   "source": [
    "# Define replace_pronouns()\n",
    "def replace_pronouns(message):\n",
    "\n",
    "    message = message.lower()\n",
    "    if 'me' in message:\n",
    "        # Replace 'me' with 'you'\n",
    "        return re.sub('me', 'you', message)\n",
    "    if 'my' in message:\n",
    "        # Replace 'my' with 'your'\n",
    "        return re.sub('my', 'your', message)\n",
    "    if 'your' in message:\n",
    "        # Replace 'your' with 'my'\n",
    "        return re.sub('your', 'my', message)\n",
    "    if 'you' in message:\n",
    "        # Replace 'you' with 'I'\n",
    "        return re.sub('you', 'I', message)\n",
    "    if 'i' in message:\n",
    "        # Replace 'I' with 'You'\n",
    "        return re.sub('i', 'you', message)\n",
    "    return message\n",
    "\n",
    "print(replace_pronouns(\"my last birthday\"))\n",
    "print(replace_pronouns(\"when you went to Florida\"))\n",
    "print(replace_pronouns(\"my own castle\"))"
   ]
  },
  {
   "cell_type": "markdown",
   "metadata": {},
   "source": [
    "## Version 7: Putting everything together\n",
    "\n",
    "This chatbot puts together random response, asking questions, regex dictionary and replacing pronouns."
   ]
  },
  {
   "cell_type": "code",
   "execution_count": 42,
   "metadata": {},
   "outputs": [
    {
     "name": "stdout",
     "output_type": "stream",
     "text": [
      "USER : do you remember your last birthday\n",
      "BOT : Why haven't you been able to forget my last birthday?\n",
      "USER : do you think humans should be worried about AI\n",
      "BOT : No chance\n",
      "USER : I want a robot friend\n",
      "BOT : What's stopping you from getting a robot friend?\n",
      "USER : what if you could be anything you wanted\n",
      "BOT : Do you wish that I could be anything I wanted?\n"
     ]
    }
   ],
   "source": [
    "import re\n",
    "import random\n",
    "import time\n",
    "\n",
    "# Create templates\n",
    "bot_template = \"BOT : {0}\"\n",
    "user_template = \"USER : {0}\"\n",
    "\n",
    "rules = {\"I want (.*)\":[\"What would it mean if you got {0}?\", \n",
    "                        \"Why do you want {0}?\", \n",
    "                        \"What's stopping you from getting {0}?\"], \n",
    "         \"if (.*)\":[\"Do you really think it's likely that {0}?\", \n",
    "                    \"Do you wish that {0}?\", \n",
    "                    \"What do you think about {0}?\", \n",
    "                    \"Really--if {0}\"], \n",
    "         \"do you think (.*)\":[\"if {0}? Absolutely.\", \n",
    "                              \"No chance\"], \n",
    "         \"do you remember (.*)\":[\"Did you think I would forget {0}?\", \n",
    "                                 \"Why haven't you been able to forget {0}?\", \n",
    "                                 \"What about {0}?\", \n",
    "                                 \"Yes .. and?\"]\n",
    "        }\n",
    "\n",
    "# Define a function that sends a message to the bot\n",
    "def send_message(message):\n",
    "    # Print user_template including the user_message\n",
    "    print(user_template.format(message))\n",
    "    # Get the bot's response to the message\n",
    "    responses = respond(message)\n",
    "    # Create one second delay before returning response\n",
    "    time.sleep(1.0)\n",
    "    print(bot_template.format(responses))\n",
    "\n",
    "# Define respond()\n",
    "def respond(message):\n",
    "    # Call match_rule\n",
    "    response, phrase = match_rule(rules, message)\n",
    "    if '{0}' in response:\n",
    "        # Replace the pronouns in the phrase\n",
    "        phrase = replace_pronouns(phrase)\n",
    "        # Include the phrase in the response\n",
    "        response = response.format(phrase)\n",
    "    return response\n",
    "\n",
    "# Define match_rule()\n",
    "def match_rule(rules, message):\n",
    "    response, phrase = \"default\", None\n",
    "    \n",
    "    # Iterate over the rules dictionary\n",
    "    for pattern, responses in rules.items():\n",
    "        # Create a match object\n",
    "        match = re.search(pattern, message)\n",
    "        if match is not None:\n",
    "            # Choose a random response\n",
    "            response = random.choice(responses)\n",
    "            if '{0}' in response:\n",
    "                phrase = match.group(1)\n",
    "    # Return the response and phrase\n",
    "    return response, phrase\n",
    "\n",
    "def replace_pronouns(message):\n",
    "    message = message.lower()\n",
    "    if 'me' in message:\n",
    "        # Replace 'me' with 'you'\n",
    "        return re.sub('me', 'you', message)\n",
    "    if 'my' in message:\n",
    "        # Replace 'my' with 'your'\n",
    "        return re.sub('my', 'your', message)\n",
    "    if 'your' in message:\n",
    "        # Replace 'your' with 'my'\n",
    "        return re.sub('your', 'my', message)\n",
    "    if 'you' in message:\n",
    "        # Replace 'you' with 'I'\n",
    "        return re.sub('you', 'I', message)\n",
    "    return message\n",
    "\n",
    "# Send the messages\n",
    "send_message(\"do you remember your last birthday\")\n",
    "time.sleep(1.0)\n",
    "send_message(\"do you think humans should be worried about AI\")\n",
    "time.sleep(1.0)\n",
    "send_message(\"I want a robot friend\")\n",
    "time.sleep(1.0)\n",
    "send_message(\"what if you could be anything you wanted\")"
   ]
  },
  {
   "cell_type": "markdown",
   "metadata": {},
   "source": [
    "## PART 2 - NATURAL LANGUAGE UNDERSTANDING"
   ]
  },
  {
   "cell_type": "markdown",
   "metadata": {},
   "source": [
    "NLU (Natural Language Understanding) is a branch of NLP (Natural Language Processing). NLU look for two things: intent and entitites. Intent is a broad description of what a person is trying to say. Entities are identifying data correctly from information user provided. \n",
    "\n",
    "For example, if the person types, 'I'm looking for a Mexican restaurant in the center of town', intent is \"restaurant search\" and entities are \"cuisine: Mexican\" and \"area: center\". \n",
    "\n",
    "NER (Named Entity Recognition) aims to find universal entities, such as, names of people, dates, organization. \n",
    "\n",
    "We use regular expressions to recognize intents and entities, which is simpler than machine learning approach. "
   ]
  },
  {
   "cell_type": "markdown",
   "metadata": {},
   "source": [
    "## Prelude: Using regular expressions"
   ]
  },
  {
   "cell_type": "code",
   "execution_count": 43,
   "metadata": {},
   "outputs": [
    {
     "data": {
      "text/plain": [
       "True"
      ]
     },
     "execution_count": 43,
     "metadata": {},
     "output_type": "execute_result"
    }
   ],
   "source": [
    "import re\n",
    "re.search(r\"(hello|hey|hi)\", \"hey there!\") is not None"
   ]
  },
  {
   "cell_type": "code",
   "execution_count": 44,
   "metadata": {},
   "outputs": [
    {
     "data": {
      "text/plain": [
       "True"
      ]
     },
     "execution_count": 44,
     "metadata": {},
     "output_type": "execute_result"
    }
   ],
   "source": [
    "re.search(r\"(hello|hey|hi)\", \"which one?\") is not None"
   ]
  },
  {
   "cell_type": "code",
   "execution_count": 45,
   "metadata": {},
   "outputs": [
    {
     "data": {
      "text/plain": [
       "True"
      ]
     },
     "execution_count": 45,
     "metadata": {},
     "output_type": "execute_result"
    }
   ],
   "source": [
    "re.search(r\"\\b(hello|hey|hi)\\b\", \"hey there!\") is not None"
   ]
  },
  {
   "cell_type": "code",
   "execution_count": 47,
   "metadata": {},
   "outputs": [
    {
     "data": {
      "text/plain": [
       "False"
      ]
     },
     "execution_count": 47,
     "metadata": {},
     "output_type": "execute_result"
    }
   ],
   "source": [
    "re.search(r\"\\b(hello|hey|hi)\\b\", \"which one?\") is not None"
   ]
  },
  {
   "cell_type": "markdown",
   "metadata": {},
   "source": [
    "If we are using pattern multiple times we can create a pattern object using re.compile."
   ]
  },
  {
   "cell_type": "code",
   "execution_count": 48,
   "metadata": {},
   "outputs": [
    {
     "data": {
      "text/plain": [
       "['Mary', 'Oxford', 'Google']"
      ]
     },
     "execution_count": 48,
     "metadata": {},
     "output_type": "execute_result"
    }
   ],
   "source": [
    "pattern = re.compile('[A-Z]{1}[a-z]*')\n",
    "message = \"\"\"Mary is a friend of mine, she studied\n",
    "at Oxford and now works at Google\"\"\"\n",
    "pattern.findall(message)"
   ]
  },
  {
   "cell_type": "markdown",
   "metadata": {},
   "source": [
    "## Step 1: Correctly identify intent of a message\n",
    "Here, we are trying to return appropriate response by correctly identifying intents. We build a pattern dictionary with the intents as keys and regex objects as values. \n",
    "responses dictionary indicate how the bot should respond to each of these intents."
   ]
  },
  {
   "cell_type": "code",
   "execution_count": 52,
   "metadata": {},
   "outputs": [],
   "source": [
    "responses = {\"greet\":\"Hello you! :)\", \"default\":\"default message\", \n",
    "            \"thankyou\": \"you are very welcome\", \n",
    "             \"goodbye\": \"goodbye for now\"}\n",
    "\n",
    "patterns = {'greet': re.compile('hello|hi|hey'), \n",
    "            'thankyou': re.compile('thank|thx'), 'goodbye': re.compile('bye|farewell')}"
   ]
  },
  {
   "cell_type": "code",
   "execution_count": 56,
   "metadata": {},
   "outputs": [
    {
     "name": "stdout",
     "output_type": "stream",
     "text": [
      "USER : hello!\n",
      "BOT : Hello you! :)\n",
      "USER : bye byeee\n",
      "BOT : goodbye for now\n",
      "USER : thanks very much!\n",
      "BOT : you are very welcome\n"
     ]
    }
   ],
   "source": [
    "import time\n",
    "\n",
    "# Create templates\n",
    "bot_template = \"BOT : {0}\"\n",
    "user_template = \"USER : {0}\"\n",
    "\n",
    "def send_message(message):\n",
    "    # Print user_template including the user_message\n",
    "    print(user_template.format(message))\n",
    "    # Get the bot's response to the message\n",
    "    responses = respond(message)\n",
    "    # Create one second delay before returning response\n",
    "    time.sleep(1.0)\n",
    "    print(bot_template.format(responses))\n",
    "\n",
    "# Define a function to find the intent of a message\n",
    "def match_intent(message):\n",
    "    matched_intent = None\n",
    "    for intent, pattern in patterns.items():\n",
    "        # Check if the pattern occurs in the message \n",
    "        if re.search(pattern, message):\n",
    "            matched_intent = intent\n",
    "    return matched_intent\n",
    "\n",
    "# Define a respond function\n",
    "def respond(message):\n",
    "    # Call the match_intent function\n",
    "    intent = match_intent(message)\n",
    "    # Fall back to the default response\n",
    "    key = \"default\"\n",
    "    if intent in responses:\n",
    "        key = intent\n",
    "    return responses[key]\n",
    "\n",
    "# Send messages\n",
    "send_message(\"hello!\")\n",
    "time.sleep(1.0)\n",
    "send_message(\"bye byeee\")\n",
    "time.sleep(1.0)\n",
    "send_message(\"thanks very much!\")"
   ]
  },
  {
   "cell_type": "markdown",
   "metadata": {},
   "source": [
    "## Step 2: Correctly identify intent and entities\n",
    "Here, we are trying to identify 'name' or 'call' as the user's intent and actual names as entities. "
   ]
  },
  {
   "cell_type": "code",
   "execution_count": 61,
   "metadata": {},
   "outputs": [
    {
     "name": "stdout",
     "output_type": "stream",
     "text": [
      "USER : my name is David Copperfield\n",
      "BOT : Hello, David Copperfield!\n",
      "USER : call me Ishmael\n",
      "BOT : Hello, Ishmael!\n",
      "USER : people call me Cassandra\n",
      "BOT : Hello, Cassandra!\n"
     ]
    }
   ],
   "source": [
    "import time\n",
    "import re\n",
    "\n",
    "# Create templates\n",
    "bot_template = \"BOT : {0}\"\n",
    "user_template = \"USER : {0}\"\n",
    "\n",
    "# Define find_name()\n",
    "def find_name(message):\n",
    "    name = None\n",
    "    # Create a pattern for checking if the keywords occur\n",
    "    name_keyword = re.compile(\"(name|call)\")\n",
    "    # Create a pattern for finding capitalized words\n",
    "    name_pattern = re.compile(\"[A-Z]{1}[a-z]+\")\n",
    "    # Check keywords to see if user is introducing themselves\n",
    "    if name_keyword.search(message):\n",
    "        # Get the matching words in the string\n",
    "        name_words = name_pattern.findall(message)\n",
    "        if len(name_words) > 0:\n",
    "            # Return the name if the keywords are present\n",
    "            name = ' '.join(name_words)\n",
    "    return name\n",
    "\n",
    "# Define respond()\n",
    "def respond(message):\n",
    "    # Find the name\n",
    "    name = find_name(message)\n",
    "    if name is None:\n",
    "        return \"Hi there!\"\n",
    "    else:\n",
    "        return \"Hello, {0}!\".format(name)\n",
    "    \n",
    "def send_message(message):\n",
    "    # Print user_template including the user_message\n",
    "    print(user_template.format(message))\n",
    "    # Get the bot's response to the message\n",
    "    responses = respond(message)\n",
    "    # Create one second delay before returning response\n",
    "    time.sleep(1.0)\n",
    "    print(bot_template.format(responses))\n",
    "\n",
    "# Send messages\n",
    "send_message(\"my name is David Copperfield\")\n",
    "time.sleep(1.0)\n",
    "send_message(\"call me Ishmael\")\n",
    "time.sleep(1.0)\n",
    "send_message(\"people call me Cassandra\")"
   ]
  },
  {
   "cell_type": "markdown",
   "metadata": {},
   "source": [
    "## Step 3: Using machine learning to identify intent\n",
    "When we use machine learning, programs can get better at a task by being exposed to more data. To help identify user intent, we use vector representations. More specifically, we use Word Vectors, which try to represent meaning of words. Words which appear in similar context have similar vectors. \n",
    "\n",
    "We can train vectors using GloVe algorithm, which is cousin of word2vec. We will also be using spaCy, which is Python NLP library."
   ]
  },
  {
   "cell_type": "markdown",
   "metadata": {},
   "source": [
    "### Example use of spaCy"
   ]
  },
  {
   "cell_type": "markdown",
   "metadata": {},
   "source": [
    "In word vector space, it is direction of vectors that matters the most. So the 'distance' we want to measure between words is actually related to the angle between the vectors. \n",
    "We use Cosine similarity: 1 when vectors point in same direction, 0 if they are perpendicular, and -1 if they are opposite direction. \n",
    "Similarity measures how similar meanings of the words are, instead of spelling. For example, 'cat' is more similar to 'dog', although it has more similar spelling to 'can'. "
   ]
  },
  {
   "cell_type": "code",
   "execution_count": 17,
   "metadata": {},
   "outputs": [
    {
     "data": {
      "text/plain": [
       "0.30165289379772614"
      ]
     },
     "execution_count": 17,
     "metadata": {},
     "output_type": "execute_result"
    }
   ],
   "source": [
    "import spacy\n",
    "nlp = spacy.load('en_core_web_lg')\n",
    "doc = nlp('cat')\n",
    "doc.similarity(nlp('can'))"
   ]
  },
  {
   "cell_type": "code",
   "execution_count": 18,
   "metadata": {},
   "outputs": [
    {
     "data": {
      "text/plain": [
       "0.8016854705531046"
      ]
     },
     "execution_count": 18,
     "metadata": {},
     "output_type": "execute_result"
    }
   ],
   "source": [
    "doc.similarity(nlp('dog'))"
   ]
  },
  {
   "cell_type": "markdown",
   "metadata": {},
   "source": [
    "### Supervised learning\n",
    "We can use machine learning algorithms to recognize intents in the messages. Recognizing intent is a classification problem. Given an input that is a user message, we want a model (a classifier) which can predict a label that is a intent of the message. \n",
    "\n",
    "A classifier usually have a number of tunable parameters. we tune these parameters using a training data sets. So we twick the parameters until classifer predicts training label well. This process is called fitting. \n",
    "\n",
    "We then evaluate the quality of model using test data set. These are new messages which the classifiers haven't seen before. We see if it can correctly predict test labels.\n",
    "\n",
    "One way to report the quality of classifer is accuracy. Accuracy is the fraction of test label which is predicted correctly. \n",
    "\n",
    "ATIS dataset is a thousands of sentences with labeled intents and entities. The data was collected from a real flight booking service. It contains intents like, atis_flight and atis_airfare, indicating whether this was a flight search, questions about price, or something else. \n",
    "\n",
    "Training and test sentences are available in sentences_train and test, and labels in labels_train and test. \n",
    "\n",
    "An array X_train contains vector representation of all the training sentences. This should have as many rows as there are sentences in the training set. And as many columns as there are dimensions to word vectors. \n",
    "\n",
    "\n",
    "X_train_shape = (len(sentences_train),nlp.vocab.vectors_length) //tuple\n",
    "\n",
    "X_train = np.zeros(X_train_shape). //initialized to zero \n",
    "\n",
    "for sentence in sentences_train:\n",
    "    X_train[i,:] = nlp(sentence).vector\n",
    "\n",
    "We then iterate over sentences and use document.vector method to get the vector for the whole string. This takes an average of vectors of individual words.\n",
    "\n",
    "Let's use word vectors to recognize intent. We will need some training data, that is sentences which we already labelled with corresponding intent. The simplest thing we can do to categorize new sentence is to look for the labelled example that is the most similar. And use its intent as the best guess. We call this nearest neighbor classification. \n",
    "\n",
    "scikit-learn provides function for calculating cosine similarity. So we can import it and calculate similarity scores with all the training sentences by iterating over them. "
   ]
  },
  {
   "cell_type": "code",
   "execution_count": 22,
   "metadata": {},
   "outputs": [],
   "source": [
    "from sklearn.metrics.pairwise import cosine_similarity\n",
    "\n",
    "'''Don't run this code!!'''\n",
    "\n",
    "test_message = \"\"\"\n",
    "i would like to find a flight from charlotte\n",
    "to las vegas that makes a stop in st.louis\"\"\"\n",
    "\n",
    "test_x = nlp(test_message).vector\n",
    "\n",
    "scores = [\n",
    "    cosine_similarity(X[i,:], text_x)\n",
    "    for i in range(len(sentences_train))\n",
    "]\n",
    "\n",
    "#This will return index of the largest value in scores\n",
    "labels_train[np.argmax(scores)] \n",
    "\n",
    "#The train label with that index is our guess for intent\n",
    "#of our test message.\n",
    "\n",
    "#This code will return 'atis_flight'\n"
   ]
  },
  {
   "cell_type": "markdown",
   "metadata": {},
   "source": [
    "Support Vector Machine (SVM) is a machine learning method that is more robust than Nearest Neightbor Classification. And Support Vector Classifier (SVC) works really well for classifying intent. \n",
    "\n",
    "We have already defined X_train array. Y_train array now contains integer labels corresponding to different labels in ATIS datasets. "
   ]
  },
  {
   "cell_type": "code",
   "execution_count": null,
   "metadata": {},
   "outputs": [],
   "source": [
    "from sklearn.svm import SVC\n",
    "\n",
    "''' Don't run this code!!!'''\n",
    "\n",
    "clf = SVC()\n",
    "clf.fit(X_train, y_train)\n",
    "y_pred = clf.predict(X_test)"
   ]
  },
  {
   "cell_type": "markdown",
   "metadata": {},
   "source": [
    "### Entity extraction\n",
    "\n",
    "We have so far only used basic approach by looking for keywords. It's much trickier to recognize entities we haven't seen before. Say you are building a voice controlled music speaker. The following is the pre-built Named Entity Recognition."
   ]
  },
  {
   "cell_type": "code",
   "execution_count": 23,
   "metadata": {},
   "outputs": [
    {
     "name": "stdout",
     "output_type": "stream",
     "text": [
      "Mary PERSON\n",
      "Google ORG\n",
      "2009 DATE\n"
     ]
    }
   ],
   "source": [
    "import spacy\n",
    "nlp = spacy.load('en_core_web_lg')\n",
    "doc = nlp(\"my friend Mary has worked at Google since 2009\")\n",
    "for ent in doc.ents:\n",
    "    print(ent.text, ent.label_)"
   ]
  },
  {
   "cell_type": "markdown",
   "metadata": {},
   "source": [
    "Roles: Entities can have different roles. For example, if we have a sentence 'I want a flight from Tel Aviv to Bucharest' and 'show me flights to Shanghai from Singapore', we have starting and destination locations in a opposite order. \n",
    "\n",
    "For this problem, we can create two patterns and see which was matched."
   ]
  },
  {
   "cell_type": "code",
   "execution_count": null,
   "metadata": {},
   "outputs": [],
   "source": [
    "pattern_1 = re.compile('.* from (.*) to (.*)')\n",
    "pattern_2 = re.compile('.* from (.*) to (.*)') "
   ]
  },
  {
   "cell_type": "markdown",
   "metadata": {},
   "source": [
    "Dependency parsing: Parse tree is a hierarchical structure that specifies parent child relationship between the word and the phrase that is independent of word order. "
   ]
  },
  {
   "cell_type": "code",
   "execution_count": 26,
   "metadata": {},
   "outputs": [
    {
     "data": {
      "text/plain": [
       "[from, flight]"
      ]
     },
     "execution_count": 26,
     "metadata": {},
     "output_type": "execute_result"
    }
   ],
   "source": [
    "doc = nlp('a flight to Shanghai from Singapore')\n",
    "\n",
    "#Assign 'to' and 'from' as tokens to Shanghai and Singapore\n",
    "shanghai, singapore = doc[3], doc[5]\n",
    "\n",
    "#We can access the parent of each token through ancestor attribute\n",
    "list(shanghai.ancestors)\n",
    "list(singapore.ancestors)"
   ]
  },
  {
   "cell_type": "code",
   "execution_count": 27,
   "metadata": {},
   "outputs": [
    {
     "name": "stdout",
     "output_type": "stream",
     "text": [
      "color red belongs to item jacket\n",
      "color blue belongs to item jeans\n"
     ]
    }
   ],
   "source": [
    "doc = nlp(\"let's see that jacket in red and some blue jeans\")\n",
    "items = [doc[4], doc[10]] #[jacket, jeans]\n",
    "colors = [doc[6], doc[9]] #[red, blue] \n",
    "\n",
    "for color in colors:\n",
    "    for tok in color.ancestors:\n",
    "        if tok in items:\n",
    "            print(\"color {} belongs to item {}\".format(color, tok))\n",
    "            break"
   ]
  },
  {
   "cell_type": "markdown",
   "metadata": {},
   "source": [
    "## PART 3 - IMPLEMENTING DATABASE "
   ]
  },
  {
   "cell_type": "markdown",
   "metadata": {},
   "source": [
    "A functional chatbot requires information about outside world, which means it needs to interact with databases or APIs. The simplest database we use is SQL. In Python, we use SQLite."
   ]
  },
  {
   "cell_type": "code",
   "execution_count": 2,
   "metadata": {},
   "outputs": [],
   "source": [
    "import sqlite3 as sql\n",
    "import pandas as pd\n",
    "import numpy as np"
   ]
  },
  {
   "cell_type": "code",
   "execution_count": 3,
   "metadata": {},
   "outputs": [],
   "source": [
    "database = \"sales.db\"\n",
    "connection = sql.connect(database)"
   ]
  },
  {
   "cell_type": "code",
   "execution_count": 4,
   "metadata": {},
   "outputs": [
    {
     "data": {
      "text/html": [
       "<div>\n",
       "<style scoped>\n",
       "    .dataframe tbody tr th:only-of-type {\n",
       "        vertical-align: middle;\n",
       "    }\n",
       "\n",
       "    .dataframe tbody tr th {\n",
       "        vertical-align: top;\n",
       "    }\n",
       "\n",
       "    .dataframe thead th {\n",
       "        text-align: right;\n",
       "    }\n",
       "</style>\n",
       "<table border=\"1\" class=\"dataframe\">\n",
       "  <thead>\n",
       "    <tr style=\"text-align: right;\">\n",
       "      <th></th>\n",
       "      <th>Price</th>\n",
       "      <th>Payment_Type</th>\n",
       "      <th>Name</th>\n",
       "      <th>City</th>\n",
       "      <th>State</th>\n",
       "      <th>Country</th>\n",
       "    </tr>\n",
       "  </thead>\n",
       "  <tbody>\n",
       "    <tr>\n",
       "      <th>0</th>\n",
       "      <td>1200.0</td>\n",
       "      <td>Mastercard</td>\n",
       "      <td>carolina</td>\n",
       "      <td>Basildon</td>\n",
       "      <td>England</td>\n",
       "      <td>United Kingdom</td>\n",
       "    </tr>\n",
       "    <tr>\n",
       "      <th>1</th>\n",
       "      <td>1200.0</td>\n",
       "      <td>Visa</td>\n",
       "      <td>Betina</td>\n",
       "      <td>Parkville</td>\n",
       "      <td>MO</td>\n",
       "      <td>United States</td>\n",
       "    </tr>\n",
       "    <tr>\n",
       "      <th>2</th>\n",
       "      <td>1200.0</td>\n",
       "      <td>Mastercard</td>\n",
       "      <td>Federica e Andrea</td>\n",
       "      <td>Astoria</td>\n",
       "      <td>OR</td>\n",
       "      <td>United States</td>\n",
       "    </tr>\n",
       "    <tr>\n",
       "      <th>3</th>\n",
       "      <td>1200.0</td>\n",
       "      <td>Visa</td>\n",
       "      <td>Gouya</td>\n",
       "      <td>Echuca</td>\n",
       "      <td>Victoria</td>\n",
       "      <td>Australia</td>\n",
       "    </tr>\n",
       "    <tr>\n",
       "      <th>4</th>\n",
       "      <td>3600.0</td>\n",
       "      <td>Visa</td>\n",
       "      <td>Gerd W</td>\n",
       "      <td>Cahaba Heights</td>\n",
       "      <td>AL</td>\n",
       "      <td>United States</td>\n",
       "    </tr>\n",
       "  </tbody>\n",
       "</table>\n",
       "</div>"
      ],
      "text/plain": [
       "    Price Payment_Type               Name            City     State  \\\n",
       "0  1200.0   Mastercard           carolina        Basildon   England   \n",
       "1  1200.0         Visa             Betina       Parkville        MO   \n",
       "2  1200.0   Mastercard  Federica e Andrea         Astoria        OR   \n",
       "3  1200.0         Visa              Gouya          Echuca  Victoria   \n",
       "4  3600.0         Visa             Gerd W  Cahaba Heights        AL   \n",
       "\n",
       "          Country  \n",
       "0  United Kingdom  \n",
       "1   United States  \n",
       "2   United States  \n",
       "3       Australia  \n",
       "4   United States  "
      ]
     },
     "execution_count": 4,
     "metadata": {},
     "output_type": "execute_result"
    }
   ],
   "source": [
    "query = \"SELECT * FROM sales\"\n",
    "df = pd.read_sql_query(query, connection)\n",
    "df.head()\n",
    "\n",
    "#c = connection.cursor()\n",
    "#c.execute(\"SELECT * FROM sales WHERE Country='India'\")\n",
    "#c.fetchall()"
   ]
  },
  {
   "cell_type": "code",
   "execution_count": null,
   "metadata": {},
   "outputs": [],
   "source": []
  }
 ],
 "metadata": {
  "kernelspec": {
   "display_name": "Python 3",
   "language": "python",
   "name": "python3"
  },
  "language_info": {
   "codemirror_mode": {
    "name": "ipython",
    "version": 3
   },
   "file_extension": ".py",
   "mimetype": "text/x-python",
   "name": "python",
   "nbconvert_exporter": "python",
   "pygments_lexer": "ipython3",
   "version": "3.7.3"
  }
 },
 "nbformat": 4,
 "nbformat_minor": 2
}
